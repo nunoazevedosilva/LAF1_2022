{
 "cells": [
  {
   "cell_type": "markdown",
   "id": "84581fdb",
   "metadata": {},
   "source": [
    "## Imports"
   ]
  },
  {
   "cell_type": "code",
   "execution_count": 1,
   "id": "7a163436",
   "metadata": {},
   "outputs": [],
   "source": [
    "import serial\n",
    "import time\n",
    "from tkinter import filedialog\n",
    "from tkinter import *\n",
    "from tkinter import messagebox\n",
    "from Core.Laser import *\n",
    "from Core.Stages import *\n",
    "from Core.LIBS import *\n",
    "import os\n",
    "from Core.driver_spectrometers import *\n",
    "from Core.Experiment import *\n",
    "\n",
    "\n",
    "from spectra_database import *\n",
    "from plasma_char import *\n",
    "from read_files import *\n",
    "\n",
    "import numpy as np\n",
    "from matplotlib.pyplot import *\n",
    "\n",
    "import h5py"
   ]
  },
  {
   "cell_type": "markdown",
   "id": "fbe03c25",
   "metadata": {},
   "source": [
    "# System Initialization"
   ]
  },
  {
   "cell_type": "code",
   "execution_count": 2,
   "id": "9e8df65e",
   "metadata": {
    "scrolled": true
   },
   "outputs": [
    {
     "name": "stdout",
     "output_type": "stream",
     "text": [
      "b'1703272U8'\n",
      "b'1703273U8'\n",
      "b'1703274U8'\n",
      "b'1703275U8'\n",
      "ignore b'1703275U8' 8\n",
      "b'1703276U8'\n",
      "b'1703277U8'\n",
      "b'1703278U8'\n",
      "b'1703279U8'\n",
      "0\n",
      "1\n",
      "2\n",
      "3\n",
      "4\n",
      "5\n",
      "6\n",
      "Spectrometer system initialized - 7 devices\n",
      "[b'1703272U8', b'1703273U8', b'1703274U8', b'1703276U8', b'1703277U8', b'1703278U8', b'1703279U8']\n"
     ]
    }
   ],
   "source": [
    "laser_parameters={'make_clean_shot':False, 'n_shots':1, 'delay':330, 'n_lin':5, 'n_col':2, 'step':1 , 'cdelay':410}\n",
    "new_experiment=Experiment(system='NdYAG', parameters=laser_parameters, ignore_spectrometer=b'1703275U8')"
   ]
  },
  {
   "cell_type": "markdown",
   "id": "e45964ad",
   "metadata": {},
   "source": [
    "# Zeroing the stages"
   ]
  },
  {
   "cell_type": "code",
   "execution_count": 3,
   "id": "7a6ee12f",
   "metadata": {},
   "outputs": [
    {
     "name": "stdout",
     "output_type": "stream",
     "text": [
      "('3.999', '-1.000', '0', '0')\n",
      "('9', '-1.000', '0', '0')\n"
     ]
    },
    {
     "data": {
      "text/plain": [
       "(True, [0.0, 0.0])"
      ]
     },
     "execution_count": 3,
     "metadata": {},
     "output_type": "execute_result"
    }
   ],
   "source": [
    "new_experiment.stage_system.turn_on()\n",
    "new_experiment.stage_system.go_home()"
   ]
  },
  {
   "cell_type": "code",
   "execution_count": 4,
   "id": "4803d6ec",
   "metadata": {},
   "outputs": [
    {
     "name": "stdout",
     "output_type": "stream",
     "text": [
      "Turning off the stages\n"
     ]
    }
   ],
   "source": [
    "new_experiment.stage_system.turn_off()"
   ]
  },
  {
   "cell_type": "code",
   "execution_count": 5,
   "id": "079a2267",
   "metadata": {},
   "outputs": [
    {
     "name": "stdout",
     "output_type": "stream",
     "text": [
      "Folder already Exists\n",
      "('1.000', '0.000', '-0.004', '0')\n",
      "('0', '0.000', '-0.003', '0')\n",
      "('0.032', '-0.003', '0', '0')\n",
      "('75', '-0.003', '0', '0')\n",
      "Opening Shutter\n",
      "\n",
      "Turning on the flashlamp\n",
      "\n",
      "320\n",
      "320\n",
      "320\n",
      "320\n",
      "322\n",
      "322\n",
      "322\n",
      "322\n",
      "324\n",
      "324\n",
      "324\n",
      "326\n",
      "[(0, 0), (0, -1), (1, -1), (1, 0), (2, 0), (2, -1), (3, -1), (3, 0), (4, 0), (4, -1)]\n",
      "Moving to (0.0,0.0)\n",
      "\n",
      "('\\n-0.003', '1', '1', '0.000')\n",
      "LIBS mode of Spectrometers Ready and waiting\n",
      "Single shot...\tMoving to (0.0,0.0)\n",
      "\n",
      "('00', '1', '1', '0.000')\n",
      "done.\n",
      "Moving to (0.0,-1.0)\n",
      "\n",
      "('1', '0', '0.000', '-0.026')\n",
      "LIBS mode of Spectrometers Ready and waiting\n",
      "Single shot...\tMoving to (0.0,-1.0)\n",
      "\n",
      "('1', '1', '0.000', '-1.000')\n",
      "done.\n",
      "Moving to (1.0,-1.0)\n",
      "\n",
      "('0', '1', '0.000', '-1.000')\n",
      "LIBS mode of Spectrometers Ready and waiting\n",
      "Single shot...\tMoving to (1.0,-1.0)\n",
      "\n",
      "('1', '1', '1.003', '-1.000')\n",
      "done.\n",
      "Moving to (1.0,0.0)\n",
      "\n",
      "('1', '0', '1.001', '-0.896')\n",
      "LIBS mode of Spectrometers Ready and waiting\n",
      "Single shot...\tMoving to (1.0,0.0)\n",
      "\n",
      "('1', '1', '1.000', '0.000')\n",
      "done.\n",
      "Moving to (2.0,0.0)\n",
      "\n",
      "('0', '1', '1.000', '0.000')\n",
      "LIBS mode of Spectrometers Ready and waiting\n",
      "Single shot...\tMoving to (2.0,0.0)\n",
      "\n",
      "('1', '1', '2.007', '0.000')\n",
      "done.\n",
      "Moving to (2.0,-1.0)\n",
      "\n",
      "('1', '0', '2.000', '0.000')\n",
      "LIBS mode of Spectrometers Ready and waiting\n",
      "Single shot...\tMoving to (2.0,-1.0)\n",
      "\n",
      "('1', '0', '1.999', '-1.000')\n",
      "done.\n",
      "Moving to (3.0,-1.0)\n",
      "\n",
      "('0', '0', '1.999', '-1.000')\n",
      "LIBS mode of Spectrometers Ready and waiting\n",
      "Single shot...\tMoving to (3.0,-1.0)\n",
      "\n",
      "('1', '1', '3.003', '-1.000')\n",
      "done.\n",
      "Moving to (3.0,0.0)\n",
      "\n",
      "('1', '0', '3.000', '-0.903')\n",
      "LIBS mode of Spectrometers Ready and waiting\n",
      "Single shot...\tMoving to (3.0,0.0)\n",
      "\n",
      "('1', '1', '3.000', '0.000')\n",
      "done.\n",
      "Moving to (4.0,0.0)\n",
      "\n",
      "('0', '1', '3.000', '0.000')\n",
      "LIBS mode of Spectrometers Ready and waiting\n",
      "Single shot...\tMoving to (4.0,0.0)\n",
      "\n",
      "('1', '1', '4.000', '0.000')\n",
      "done.\n",
      "Moving to (4.0,-1.0)\n",
      "\n",
      "('1', '0', '4.000', '-0.024')\n",
      "LIBS mode of Spectrometers Ready and waiting\n",
      "Single shot...\tMoving to (4.0,-1.0)\n",
      "\n",
      "('1', '0', '3.999', '-1.000')\n",
      "done.\n",
      "Turning off the flashlamp\n",
      "\n",
      "Closing the shutter\n",
      "\n",
      "Turning off the stages\n",
      "Tempo Total: 70.52800000000025\n"
     ]
    }
   ],
   "source": [
    "folder_experiment = 'Example'\n",
    "try:\n",
    "    os.makedirs(folder_experiment)\n",
    "except:\n",
    "    print('Folder already Exists')\n",
    "\n",
    "initial_time = time.monotonic()\n",
    "new_experiment.multi_shot(folder_experiment, integration_time = 1.05, spec_delay_time=1)\n",
    "final_time = time.monotonic()\n",
    "print('Tempo Total:',final_time-initial_time)"
   ]
  },
  {
   "cell_type": "code",
   "execution_count": null,
   "id": "77c2bba2",
   "metadata": {},
   "outputs": [],
   "source": [
    "%matplotlib widget\n",
    "spot = '\\\\spot1\\\\'\n",
    "wavelength, signals, positions = read_libs_data(folder_experiment + spot)\n",
    "shot_n = 0\n",
    "subplots(figsize=[8,4])\n",
    "for i in range(0,len(wavelength)):\n",
    "    plot(wavelength[i], signals[shot_n][i],label='Spectrometer '+str(i))\n",
    "legend(loc=2)\n"
   ]
  },
  {
   "cell_type": "markdown",
   "id": "e077f121",
   "metadata": {},
   "source": [
    "## A. Example: Changing Q-switch"
   ]
  },
  {
   "cell_type": "code",
   "execution_count": null,
   "id": "17e1c55e",
   "metadata": {},
   "outputs": [],
   "source": [
    "qswitch_parameters = [330,340,350,360]\n",
    "for i in range(0,len(qswitch_parameters)):\n",
    "    \n",
    "    qswitch = qswitch_parameters[i]\n",
    "    folder_experiment = 'D:\\\\LAF1\\\\Qswitch_'+str(qswitch)\n",
    "    try:\n",
    "        os.makedirs(folder_experiment)\n",
    "    except:\n",
    "        print('Folder already Exists')\n",
    "\n",
    "    initial_time = time.monotonic()\n",
    "    \n",
    "    new_parameters={'delay':qswitch}\n",
    "    new_experiment.laser_system.set_parameters(new_parameters)\n",
    "    \n",
    "    new_experiment.multi_shot(folder_experiment, integration_time = 1.05, spec_delay_time=1)\n",
    "    final_time = time.monotonic()\n",
    "    print('Tempo Total:',final_time-initial_time)"
   ]
  },
  {
   "cell_type": "code",
   "execution_count": 3,
   "id": "2624365c",
   "metadata": {
    "scrolled": true
   },
   "outputs": [
    {
     "data": {
      "application/vnd.jupyter.widget-view+json": {
       "model_id": "341fa33ab3154ea7af9fd6c433fce368",
       "version_major": 2,
       "version_minor": 0
      },
      "text/plain": [
       "Canvas(toolbar=Toolbar(toolitems=[('Home', 'Reset original view', 'home', 'home'), ('Back', 'Back to previous …"
      ]
     },
     "metadata": {},
     "output_type": "display_data"
    },
    {
     "data": {
      "text/plain": [
       "<matplotlib.legend.Legend at 0x2838aa38358>"
      ]
     },
     "execution_count": 3,
     "metadata": {},
     "output_type": "execute_result"
    }
   ],
   "source": []
  },
  {
   "cell_type": "code",
   "execution_count": null,
   "id": "254327b1",
   "metadata": {},
   "outputs": [],
   "source": []
  },
  {
   "cell_type": "code",
   "execution_count": null,
   "id": "9ec0dbbe",
   "metadata": {},
   "outputs": [],
   "source": []
  }
 ],
 "metadata": {
  "kernelspec": {
   "display_name": "Python 3",
   "language": "python",
   "name": "python3"
  },
  "language_info": {
   "codemirror_mode": {
    "name": "ipython",
    "version": 3
   },
   "file_extension": ".py",
   "mimetype": "text/x-python",
   "name": "python",
   "nbconvert_exporter": "python",
   "pygments_lexer": "ipython3",
   "version": "3.6.12"
  }
 },
 "nbformat": 4,
 "nbformat_minor": 5
}
