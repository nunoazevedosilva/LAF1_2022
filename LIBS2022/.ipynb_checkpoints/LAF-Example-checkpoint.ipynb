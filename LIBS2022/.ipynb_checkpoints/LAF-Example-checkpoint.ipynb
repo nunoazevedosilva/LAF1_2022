{
 "cells": [
  {
   "cell_type": "code",
   "execution_count": 3,
   "id": "bf0319ba",
   "metadata": {},
   "outputs": [],
   "source": [
    "#from auxiliary_plasma_functions import *\n",
    "from spectra_database import *\n",
    "from plasma_char import *\n",
    "from read_files import *\n",
    "\n",
    "import numpy as np\n",
    "from matplotlib.pyplot import *\n",
    "\n",
    "import h5py"
   ]
  },
  {
   "cell_type": "markdown",
   "id": "2491c441",
   "metadata": {},
   "source": [
    "# 1. Getting Started with Plasma emission spectroscopy\n",
    "\n",
    "As referred in the protocol, LIBS make use of concepts related with emission spectroscopy. In particular, we will seek to analyse the obtained spectrum by searching for characteristic element and ionic emission lines. The parameters for these specific emission lines can be found in many resources online ( e.g. https://physics.nist.gov/PhysRefData/ASD/LIBS/libs-form.html ). For this activity we previously gathered some data from the NIST database and stored in a local offline library, which you can access with the function get_spectra(element). The online version of the function, get_spectra_online(element, density = 1e17, temperature = 1) allows to further control the plasma density and temperature but requires network connection to obtain it directly from the NIST online database. \n",
    "\n",
    "For both functions the output dataset has the structure [wavelengths,atomic lines, ionic lines +1, ionic lines +2] ."
   ]
  },
  {
   "cell_type": "code",
   "execution_count": 20,
   "id": "a0bf7f44",
   "metadata": {},
   "outputs": [
    {
     "data": {
      "application/vnd.jupyter.widget-view+json": {
       "model_id": "72aecd9ff0a2447b84fb9c3b763ec982",
       "version_major": 2,
       "version_minor": 0
      },
      "text/plain": [
       "Canvas(toolbar=Toolbar(toolitems=[('Home', 'Reset original view', 'home', 'home'), ('Back', 'Back to previous …"
      ]
     },
     "metadata": {},
     "output_type": "display_data"
    }
   ],
   "source": [
    "%matplotlib widget\n",
    "element = 'Fe'\n",
    "\n",
    "\n",
    "spectrum1 = get_spectra(element)\n",
    "spectrum2 = get_spectra_online1(element, density = 1.2e17, temperature=0.8)\n",
    "\n",
    "subplots()\n",
    "wavelengths = spectrum1[:,0]\n",
    "plot(wavelengths, spectrum1[:,2],label=element+' 1')\n",
    "plot(wavelengths, spectrum1[:,3],label=element+' 2')\n",
    "plot(wavelengths, spectrum1[:,4],label=element+' 3')\n",
    "\n",
    "wavelengths = spectrum2[:,0]\n",
    "plot(wavelengths, spectrum2[:,1],ls='--',label=element+' 1, $T_p=0.8eV$')\n",
    "plot(wavelengths, spectrum2[:,2],ls='--',label=element+' 2, $T_p=0.8eV$')\n",
    "plot(wavelengths, spectrum2[:,3],ls='--',label=element+' 3, $T_p=0.8eV$')\n",
    "\n",
    "legend()\n",
    "xlabel('$\\lambda$ (nm)')\n",
    "ylabel('Counts (arb.un.)')\n",
    "tight_layout()\n"
   ]
  },
  {
   "cell_type": "code",
   "execution_count": 17,
   "id": "32ed29c4",
   "metadata": {},
   "outputs": [
    {
     "data": {
      "text/plain": [
       "array([[ 250.092331  ,    0.        , 1491.45004498,    0.        ],\n",
       "       [ 250.113174  , 1856.97442671,    0.        ,    0.        ],\n",
       "       [ 250.135063  ,    0.        ,   97.00542962,    0.        ],\n",
       "       ...,\n",
       "       [ 882.77579   ,    0.        ,    5.24391871,    0.        ],\n",
       "       [ 883.39718   ,    0.        ,    5.70406838,    0.        ],\n",
       "       [ 884.70398   ,    0.        ,    3.41754361,    0.        ]])"
      ]
     },
     "execution_count": 17,
     "metadata": {},
     "output_type": "execute_result"
    }
   ],
   "source": [
    "spectrum2"
   ]
  },
  {
   "cell_type": "markdown",
   "id": "d3ff08be",
   "metadata": {},
   "source": [
    "You are now in conditions of comparing the theoretical emission spectrum for an element with an experimental spectrum for a sample. For reading the data in a specific folder you just need to call the function \n",
    "1. read_libs_data(folder): returns an array of wavelenghts for each spectrometer (7 in total x 2048 pixels) and an array of shots for each spectrometer with shape (nspectrometers, nshots, npixels)"
   ]
  },
  {
   "cell_type": "code",
   "execution_count": 5,
   "id": "e2e91efc",
   "metadata": {},
   "outputs": [
    {
     "data": {
      "text/plain": [
       "(1, 7, 2048)"
      ]
     },
     "execution_count": 5,
     "metadata": {},
     "output_type": "execute_result"
    }
   ],
   "source": [
    "wavelength, signals, positions = read_libs_data(r'Fe\\\\spot1\\\\')\n",
    "signals.shape"
   ]
  },
  {
   "cell_type": "markdown",
   "id": "1f35721a",
   "metadata": {},
   "source": [
    "Now let's see if the sample has Iron:"
   ]
  },
  {
   "cell_type": "code",
   "execution_count": 7,
   "id": "61cf1298",
   "metadata": {},
   "outputs": [
    {
     "data": {
      "application/vnd.jupyter.widget-view+json": {
       "model_id": "07e569535aa7427195de686de3ea25f0",
       "version_major": 2,
       "version_minor": 0
      },
      "text/plain": [
       "Canvas(toolbar=Toolbar(toolitems=[('Home', 'Reset original view', 'home', 'home'), ('Back', 'Back to previous …"
      ]
     },
     "metadata": {},
     "output_type": "display_data"
    },
    {
     "data": {
      "text/plain": [
       "<matplotlib.legend.Legend at 0x23896782400>"
      ]
     },
     "execution_count": 7,
     "metadata": {},
     "output_type": "execute_result"
    }
   ],
   "source": [
    "element = 'Fe'\n",
    "spectrum1 = get_spectra(element)\n",
    "ref_wavelengths = spectrum1[:,0]\n",
    "\n",
    "subplots()\n",
    "#Plot digital Spectra\n",
    "fill_between(ref_wavelengths, spectrum1[:,2],label=element+' 1',alpha=0.5)\n",
    "fill_between(ref_wavelengths, spectrum1[:,3],label=element+' 2',alpha=0.5)\n",
    "fill_between(ref_wavelengths, spectrum1[:,4],label=element+' 3',alpha=0.5)\n",
    "legend(loc=0)\n",
    "\n",
    "#Plot a single shot\n",
    "ax = twinx()\n",
    "shot_n = 0\n",
    "for i in range(0,len(wavelength)):\n",
    "    plot(wavelength[i], signals[shot_n][i],label='Spectrometer '+str(i))\n",
    "legend(loc=2)\n",
    "#plt.xlim(400,450)"
   ]
  },
  {
   "cell_type": "markdown",
   "id": "52de3063",
   "metadata": {},
   "source": [
    "# 2. Measure peak areas, variations from shot to shot and parameters\n",
    "\n",
    "A typical physics experiment involves collecting some data and analysing it (if possible during the experiment). After the brief qualitative analysis performed above, you will see now how to extract some features from the LIBS signal by computing the intensity of specific emission lines, which are important to characterize how plasma varies with the system parameters (Q-switch delay, spectrometer delay, integration time, etc.). For this task you can either select directly the index corresponding to the wavelength you want, or compute the total peak are (when do you think you should use one or another?). For this you can use two functions that are already defined:\n",
    "1. get_peak_intensity(wl,signal,l0, Plot=True): returns the intensity of the index closest to l0, plot a graph depicting the result if Plot == True;\n",
    "2. get_peak_area_intensity(wl, signal, l0, Plot=True): returns the peak area at halfwidth for the peak closest to l0 in a radius of 0.2 nm, and plot a graph depicting the result if Plot == True;"
   ]
  },
  {
   "cell_type": "code",
   "execution_count": 5,
   "id": "4a9818d1",
   "metadata": {},
   "outputs": [
    {
     "data": {
      "application/vnd.jupyter.widget-view+json": {
       "model_id": "5dfdd219c177456a9894fc0a2f11162f",
       "version_major": 2,
       "version_minor": 0
      },
      "text/plain": [
       "Canvas(toolbar=Toolbar(toolitems=[('Home', 'Reset original view', 'home', 'home'), ('Back', 'Back to previous …"
      ]
     },
     "metadata": {},
     "output_type": "display_data"
    },
    {
     "data": {
      "application/vnd.jupyter.widget-view+json": {
       "model_id": "7bf4923700e848988104999890507b51",
       "version_major": 2,
       "version_minor": 0
      },
      "text/plain": [
       "Canvas(toolbar=Toolbar(toolitems=[('Home', 'Reset original view', 'home', 'home'), ('Back', 'Back to previous …"
      ]
     },
     "metadata": {},
     "output_type": "display_data"
    },
    {
     "name": "stdout",
     "output_type": "stream",
     "text": [
      "intensity at max =  10159.0\n",
      "peak area intensity at max =  951.7546828364003\n"
     ]
    }
   ],
   "source": [
    "#Do not forget to choose the right spectrometer for the target range\n",
    "n_spec = 5\n",
    "line_0 = 670.7\n",
    "intensity = get_peak_intensity(wavelength[n_spec], signals[shot_n][n_spec], l0=line_0, Plot=True)\n",
    "peak_area = get_peak_area_intensity(wavelength[n_spec], signals[shot_n][n_spec], l0=line_0, Plot=True)\n",
    "\n",
    "print('intensity at max = ', intensity)\n",
    "print('peak area intensity at max = ', peak_area)"
   ]
  },
  {
   "cell_type": "markdown",
   "id": "3a688a62",
   "metadata": {},
   "source": [
    "# 3. Measuring plasma properties\n",
    "\n",
    "As described in the protocol for this experiment, we will characterize the plasma using concepts related with the Stark broadening of the Hydrogen $\\alpha$ line and the Saha-Boltzmann plot for computing the electron density and plasma temperature, respectively. For this you may use two functions that are already implemented:\n",
    "\n",
    "1. get_plasma_density(wl, signal, Plot=True): given the wavelengths and associated signal for the correct channel of the spectrometer containing the $\\alpha$ line retrieves and plots the fit if Plot=True;\n",
    "\n",
    "1. get_plasma_temperature(lines, ion_energies, wl, signal): given a list of parameters for the lines for an element as described in the example and the ion energies plus the wavelengths and associated signal (full list), retrievves the temperature and the xs and ys values of the saha-boltzmann plot."
   ]
  },
  {
   "cell_type": "code",
   "execution_count": 8,
   "id": "31373c93",
   "metadata": {},
   "outputs": [
    {
     "data": {
      "application/vnd.jupyter.widget-view+json": {
       "model_id": "a53b23bb863b4241b18baa0d6a6d07c4",
       "version_major": 2,
       "version_minor": 0
      },
      "text/plain": [
       "Canvas(toolbar=Toolbar(toolitems=[('Home', 'Reset original view', 'home', 'home'), ('Back', 'Back to previous …"
      ]
     },
     "metadata": {},
     "output_type": "display_data"
    },
    {
     "data": {
      "application/vnd.jupyter.widget-view+json": {
       "model_id": "4de2f6722f7943a3ae958e0159aa70ef",
       "version_major": 2,
       "version_minor": 0
      },
      "text/plain": [
       "Canvas(toolbar=Toolbar(toolitems=[('Home', 'Reset original view', 'home', 'home'), ('Back', 'Back to previous …"
      ]
     },
     "metadata": {},
     "output_type": "display_data"
    },
    {
     "name": "stdout",
     "output_type": "stream",
     "text": [
      " *** Warning - line 373.486354 for Fe 1 not found within the given range\n",
      " *** Warning - line 374.948483 for Fe 1 not found within the given range\n",
      " *** Warning - line 382.04249100000004 for Fe 1 not found within the given range\n"
     ]
    },
    {
     "data": {
      "application/vnd.jupyter.widget-view+json": {
       "model_id": "4c170fa706b64c0bbf05e6c0dbf0f41f",
       "version_major": 2,
       "version_minor": 0
      },
      "text/plain": [
       "Canvas(toolbar=Toolbar(toolitems=[('Home', 'Reset original view', 'home', 'home'), ('Back', 'Back to previous …"
      ]
     },
     "metadata": {},
     "output_type": "display_data"
    }
   ],
   "source": [
    "#A list with most relevant lines for Fe - you can find scrap the NIST database for this and for other elements\n",
    "\n",
    "#line properties = [wavelength, g, A, ion state, label, e_upper]\n",
    "\n",
    "lines_atomic = [[358.11928, 13.0, 102000000.0, 1.0, 'Fe', 4.32010008],\n",
    "              [373.486354, 11.0, 90100000.0, 1.0, 'Fe', 4.17769679],\n",
    "              [302.063878, 9.0, 75900000.0, 1.0, 'Fe', 4.10337372],\n",
    "              [374.948483, 9.0, 76300000.0, 1.0, 'Fe', 4.22036211],\n",
    "              [382.04249100000004, 9.0, 66700000.0, 1.0, 'Fe', 4.10337372]]\n",
    "\n",
    "lines_ion_1 = [[298.482518, 6.0, 43000000.0, 2.0, 'Fe', 5.82322475],\n",
    "              [300.264448, 6.0, 17900000.0, 2.0, 'Fe', 5.82322475],\n",
    "              [322.774314, 8.0, 8900000.0, 2.0, 'Fe', 5.5107139],\n",
    "              [292.658526, 10.0, 5100000.0, 2.0, 'Fe', 5.22157443],\n",
    "              [298.554538, 4.0, 23900000.0, 2.0, 'Fe', 5.87558748]]\n",
    "\n",
    "\n",
    "data_lines1 = [lines_atomic, lines_ion_1]\n",
    "ion_energies1 = np.array([7.90255, 16.187531])\n",
    "\n",
    "#####################3\n",
    "\n",
    "density = get_plasma_density(wavelength[n_spec], signals[shot_n][n_spec])\n",
    "temperature, ys,xs = get_plasma_temperature(data_lines1, ion_energies1,wavelength, signals[shot_n])\n",
    "\n"
   ]
  },
  {
   "cell_type": "code",
   "execution_count": null,
   "id": "0e02ffb9",
   "metadata": {},
   "outputs": [],
   "source": []
  }
 ],
 "metadata": {
  "kernelspec": {
   "display_name": "Python 3",
   "language": "python",
   "name": "python3"
  }
 },
 "nbformat": 4,
 "nbformat_minor": 5
}
