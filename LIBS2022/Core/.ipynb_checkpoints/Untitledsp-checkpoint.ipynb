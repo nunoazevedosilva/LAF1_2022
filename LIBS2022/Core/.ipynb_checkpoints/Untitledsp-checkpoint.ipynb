{
 "cells": [
  {
   "cell_type": "markdown",
   "id": "065fe424",
   "metadata": {},
   "source": [
    "# Spectrometer Test"
   ]
  },
  {
   "cell_type": "code",
   "execution_count": 1,
   "id": "ee41c400",
   "metadata": {},
   "outputs": [],
   "source": [
    "from driver_spectrometers import *"
   ]
  },
  {
   "cell_type": "code",
   "execution_count": 3,
   "id": "f8b6b131",
   "metadata": {},
   "outputs": [
    {
     "name": "stdout",
     "output_type": "stream",
     "text": [
      "Spectrometer system initialized - 8 devices\n",
      "[b'1703272U8', b'1703273U8', b'1703274U8', b'1703275U8', b'1703276U8', b'1703277U8', b'1703278U8', b'1703279U8']\n"
     ]
    },
    {
     "data": {
      "text/plain": [
       "0"
      ]
     },
     "execution_count": 3,
     "metadata": {},
     "output_type": "execute_result"
    }
   ],
   "source": [
    "#initialize the current system\n",
    "spec_system = Spectrometer_system()\n",
    "spec_system.gen_config(integration_time = 1.5)\n",
    "spec_system.prepare_measure()\n",
    "spec=0\n",
    "current_handle = spec_system.handle_list[spec]\n",
    "AVS_SetSyncMode(current_handle, True)"
   ]
  },
  {
   "cell_type": "code",
   "execution_count": null,
   "id": "1ca2f7b3",
   "metadata": {},
   "outputs": [],
   "source": [
    "spec_system.measure(scans = 1)\n",
    "spec_system.plot_data()"
   ]
  },
  {
   "cell_type": "code",
   "execution_count": 2,
   "id": "470e2fb6",
   "metadata": {},
   "outputs": [
    {
     "ename": "NameError",
     "evalue": "name 'spec_system' is not defined",
     "output_type": "error",
     "traceback": [
      "\u001b[1;31m---------------------------------------------------------------------------\u001b[0m",
      "\u001b[1;31mNameError\u001b[0m                                 Traceback (most recent call last)",
      "\u001b[1;32m<ipython-input-2-81d23a2d5078>\u001b[0m in \u001b[0;36m<module>\u001b[1;34m\u001b[0m\n\u001b[1;32m----> 1\u001b[1;33m \u001b[0mAVS_StopMeasure\u001b[0m\u001b[1;33m(\u001b[0m\u001b[0mspec_system\u001b[0m\u001b[1;33m.\u001b[0m\u001b[0mhandle_list\u001b[0m\u001b[1;33m[\u001b[0m\u001b[1;36m0\u001b[0m\u001b[1;33m]\u001b[0m\u001b[1;33m)\u001b[0m\u001b[1;33m\u001b[0m\u001b[1;33m\u001b[0m\u001b[0m\n\u001b[0m",
      "\u001b[1;31mNameError\u001b[0m: name 'spec_system' is not defined"
     ]
    }
   ],
   "source": [
    "AVS_StopMeasure(spec_system.handle_list[0])"
   ]
  },
  {
   "cell_type": "code",
   "execution_count": null,
   "id": "c06bbb44",
   "metadata": {},
   "outputs": [],
   "source": [
    "spec=0\n",
    "current_handle = spec_system.handle_list[spec]\n",
    "dataready = AVS_PollScan(current_handle)\n",
    "AVS_PrepareMeasure(current_handle, spec_system.config[spec])\n",
    "print(dataready)\n",
    "print(spec_system.config)\n",
    "AVS_PrepareMeasure(current_handle, spec_system.config[spec])\n",
    "print(spec_system.pixels_list[spec])\n",
    "AVS_SetSyncMode(current_handle, True)"
   ]
  },
  {
   "cell_type": "code",
   "execution_count": null,
   "id": "a1163e35",
   "metadata": {},
   "outputs": [],
   "source": [
    "AVS_UpdateUSBDevices()\n",
    "AVS_Done()"
   ]
  },
  {
   "cell_type": "code",
   "execution_count": null,
   "id": "74e2010e",
   "metadata": {},
   "outputs": [],
   "source": [
    "AVS_StopMeasure(spec_system.handle_list[1])\n",
    "AVS_StopMeasure(spec_system.handle_list[0])"
   ]
  },
  {
   "cell_type": "code",
   "execution_count": null,
   "id": "15b679de",
   "metadata": {},
   "outputs": [],
   "source": []
  }
 ],
 "metadata": {
  "kernelspec": {
   "display_name": "Python 3",
   "language": "python",
   "name": "python3"
  },
  "language_info": {
   "codemirror_mode": {
    "name": "ipython",
    "version": 3
   },
   "file_extension": ".py",
   "mimetype": "text/x-python",
   "name": "python",
   "nbconvert_exporter": "python",
   "pygments_lexer": "ipython3",
   "version": "3.8.8"
  }
 },
 "nbformat": 4,
 "nbformat_minor": 5
}
